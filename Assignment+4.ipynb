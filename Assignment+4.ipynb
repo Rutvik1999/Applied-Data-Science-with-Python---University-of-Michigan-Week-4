{
 "cells": [
  {
   "cell_type": "markdown",
   "metadata": {},
   "source": [
    "---\n",
    "\n",
    "_You are currently looking at **version 1.1** of this notebook. To download notebooks and datafiles, as well as get help on Jupyter notebooks in the Coursera platform, visit the [Jupyter Notebook FAQ](https://www.coursera.org/learn/python-data-analysis/resources/0dhYG) course resource._\n",
    "\n",
    "---"
   ]
  },
  {
   "cell_type": "code",
   "execution_count": 10,
   "metadata": {
    "collapsed": true
   },
   "outputs": [],
   "source": [
    "import pandas as pd\n",
    "import numpy as np\n",
    "import re\n",
    "from scipy.stats import ttest_ind"
   ]
  },
  {
   "cell_type": "markdown",
   "metadata": {},
   "source": [
    "# Assignment 4 - Hypothesis Testing\n",
    "This assignment requires more individual learning than previous assignments - you are encouraged to check out the [pandas documentation](http://pandas.pydata.org/pandas-docs/stable/) to find functions or methods you might not have used yet, or ask questions on [Stack Overflow](http://stackoverflow.com/) and tag them as pandas and python related. And of course, the discussion forums are open for interaction with your peers and the course staff.\n",
    "\n",
    "Definitions:\n",
    "* A _quarter_ is a specific three month period, Q1 is January through March, Q2 is April through June, Q3 is July through September, Q4 is October through December.\n",
    "* A _recession_ is defined as starting with two consecutive quarters of GDP decline, and ending with two consecutive quarters of GDP growth.\n",
    "* A _recession bottom_ is the quarter within a recession which had the lowest GDP.\n",
    "* A _university town_ is a city which has a high percentage of university students compared to the total population of the city.\n",
    "\n",
    "**Hypothesis**: University towns have their mean housing prices less effected by recessions. Run a t-test to compare the ratio of the mean price of houses in university towns the quarter before the recession starts compared to the recession bottom. (`price_ratio=quarter_before_recession/recession_bottom`)\n",
    "\n",
    "The following data files are available for this assignment:\n",
    "* From the [Zillow research data site](http://www.zillow.com/research/data/) there is housing data for the United States. In particular the datafile for [all homes at a city level](http://files.zillowstatic.com/research/public/City/City_Zhvi_AllHomes.csv), ```City_Zhvi_AllHomes.csv```, has median home sale prices at a fine grained level.\n",
    "* From the Wikipedia page on college towns is a list of [university towns in the United States](https://en.wikipedia.org/wiki/List_of_college_towns#College_towns_in_the_United_States) which has been copy and pasted into the file ```university_towns.txt```.\n",
    "* From Bureau of Economic Analysis, US Department of Commerce, the [GDP over time](http://www.bea.gov/national/index.htm#gdp) of the United States in current dollars (use the chained value in 2009 dollars), in quarterly intervals, in the file ```gdplev.xls```. For this assignment, only look at GDP data from the first quarter of 2000 onward.\n",
    "\n",
    "Each function in this assignment below is worth 10%, with the exception of ```run_ttest()```, which is worth 50%."
   ]
  },
  {
   "cell_type": "code",
   "execution_count": 2,
   "metadata": {
    "collapsed": true
   },
   "outputs": [],
   "source": [
    "# Use this dictionary to map state names to two letter acronyms\n",
    "states = {'OH': 'Ohio', 'KY': 'Kentucky', 'AS': 'American Samoa', 'NV': 'Nevada', 'WY': 'Wyoming', 'NA': 'National', 'AL': 'Alabama', 'MD': 'Maryland', 'AK': 'Alaska', 'UT': 'Utah', 'OR': 'Oregon', 'MT': 'Montana', 'IL': 'Illinois', 'TN': 'Tennessee', 'DC': 'District of Columbia', 'VT': 'Vermont', 'ID': 'Idaho', 'AR': 'Arkansas', 'ME': 'Maine', 'WA': 'Washington', 'HI': 'Hawaii', 'WI': 'Wisconsin', 'MI': 'Michigan', 'IN': 'Indiana', 'NJ': 'New Jersey', 'AZ': 'Arizona', 'GU': 'Guam', 'MS': 'Mississippi', 'PR': 'Puerto Rico', 'NC': 'North Carolina', 'TX': 'Texas', 'SD': 'South Dakota', 'MP': 'Northern Mariana Islands', 'IA': 'Iowa', 'MO': 'Missouri', 'CT': 'Connecticut', 'WV': 'West Virginia', 'SC': 'South Carolina', 'LA': 'Louisiana', 'KS': 'Kansas', 'NY': 'New York', 'NE': 'Nebraska', 'OK': 'Oklahoma', 'FL': 'Florida', 'CA': 'California', 'CO': 'Colorado', 'PA': 'Pennsylvania', 'DE': 'Delaware', 'NM': 'New Mexico', 'RI': 'Rhode Island', 'MN': 'Minnesota', 'VI': 'Virgin Islands', 'NH': 'New Hampshire', 'MA': 'Massachusetts', 'GA': 'Georgia', 'ND': 'North Dakota', 'VA': 'Virginia'}"
   ]
  },
  {
   "cell_type": "code",
   "execution_count": 30,
   "metadata": {
    "collapsed": true,
    "umich_part_id": "021",
    "umich_partlist_id": "004"
   },
   "outputs": [],
   "source": [
    "def get_list_of_university_towns():\n",
    "    '''Returns a DataFrame of towns and the states they are in from the \n",
    "    university_towns.txt list. The format of the DataFrame should be:\n",
    "    DataFrame( [ [\"Michigan\", \"Ann Arbor\"], [\"Michigan\", \"Yipsilanti\"] ], \n",
    "    columns=[\"State\", \"RegionName\"]  )\n",
    "    \n",
    "    The following cleaning needs to be done:\n",
    "\n",
    "    1. For \"State\", removing characters from \"[\" to the end.\n",
    "    2. For \"RegionName\", when applicable, removing every character from \" (\" to the end.\n",
    "    3. Depending on how you read the data, you may need to remove newline character '\\n'. '''\n",
    "\n",
    "    df_university_towns = pd.read_table('university_towns.txt', header=None)\n",
    "    state = []\n",
    "    list_towns_by_state = []\n",
    "    towns_by_state = []\n",
    "    for town in df_university_towns.iloc[0].values:\n",
    "        if '[edit]' in town:\n",
    "            state.append(town[:-6])\n",
    "        else:\n",
    "            towns_by_state.append(re.sub('\\d+','',re.sub('\\]','',re.sub('\\[','',town))))\n",
    "\n",
    "    for index in range(1,len(df_university_towns)):\n",
    "        item = df_university_towns.iloc[index].values[0]\n",
    "        if '[edit]' in item:\n",
    "            state.append(item[:-6])\n",
    "            list_towns_by_state.append(towns_by_state)\n",
    "            towns_by_state = []\n",
    "        else:\n",
    "            towns_by_state.append(re.sub('\\d+','',re.sub('\\]','',re.sub('\\[','',item[0:item.find('(')-1]))))\n",
    "\n",
    "    state_and_town_final_list = []\n",
    "\n",
    "    for s, t_l in zip(state,list_towns_by_state):\n",
    "        for t in t_l:\n",
    "            state_and_town_final_list.append([s,t])\n",
    "\n",
    "    df_uni_towns = pd.DataFrame(state_and_town_final_list, columns=['State','RegionName'])\n",
    "    return df_uni_towns\n"
   ]
  },
  {
   "cell_type": "code",
   "execution_count": 31,
   "metadata": {
    "collapsed": true,
    "umich_part_id": "022",
    "umich_partlist_id": "004"
   },
   "outputs": [],
   "source": [
    "def GDP_data():\n",
    "    df_GDP = pd.read_excel('gdplev.xls')\n",
    "    df_GDP = (df_GDP.drop(['Current-Dollar and \"Real\" Gross Domestic Product','Unnamed: 1', 'Unnamed: 2', 'Unnamed: 3', 'Unnamed: 5'],axis=1)\n",
    "              .rename(columns={'Unnamed: 4': 'Quarter', 'Unnamed: 6': 'GDP ($ Billion)'}))[7:]\n",
    "    df_GDP = df_GDP.T[0:2].T\n",
    "    return df_GDP.set_index('Quarter')\n",
    "\n",
    "def get_recession_start():\n",
    "    '''Returns the year and quarter of the recession start time as a \n",
    "    string value in a format such as 2005q3'''\n",
    "    df_GDP = GDP_data()\n",
    "    df_GDP = df_GDP[(df_GDP.index.get_loc('2000q1')):]\n",
    "    for i in range(1,len(df_GDP)):\n",
    "        if (df_GDP.iloc[i]['GDP ($ Billion)'] < df_GDP.iloc[i - 1]['GDP ($ Billion)']) and (df_GDP.iloc[i]['GDP ($ Billion)'] > df_GDP.iloc[i + 1]['GDP ($ Billion)']):\n",
    "            recession_start = df_GDP.iloc[i].name\n",
    "            return recession_start\n",
    "    return None"
   ]
  },
  {
   "cell_type": "code",
   "execution_count": 32,
   "metadata": {
    "collapsed": true,
    "umich_part_id": "023",
    "umich_partlist_id": "004"
   },
   "outputs": [],
   "source": [
    "def get_recession_end():\n",
    "    '''Returns the year and quarter of the recession end time as a \n",
    "    string value in a format such as 2005q3'''\n",
    "    recession_start = get_recession_start()\n",
    "    df_GDP = GDP_data()\n",
    "    index = df_GDP.index.get_loc(recession_start)\n",
    "    for i in range(index + 2, len(df_GDP)):\n",
    "        if (df_GDP.iloc[i]['GDP ($ Billion)'] > df_GDP.iloc[i - 1]['GDP ($ Billion)']) and (df_GDP.iloc[i - 1]['GDP ($ Billion)'] > df_GDP.iloc[i - 2]['GDP ($ Billion)']):\n",
    "            return df_GDP.iloc[i].name\n",
    "    return None"
   ]
  },
  {
   "cell_type": "code",
   "execution_count": 33,
   "metadata": {
    "collapsed": true,
    "umich_part_id": "024",
    "umich_partlist_id": "004"
   },
   "outputs": [],
   "source": [
    "def get_recession_bottom():\n",
    "    '''Returns the year and quarter of the recession bottom time as a \n",
    "    string value in a format such as 2005q3'''\n",
    "    \n",
    "    min_GDP_index = 0\n",
    "    df_recession_quarters = GDP_data()[GDP_data().index.get_loc(get_recession_start()) :GDP_data().index.get_loc(get_recession_end()) + 1]\n",
    "    min_GDP = df_recession_quarters.iloc[0]['GDP ($ Billion)']\n",
    "    for i in range(0,len(df_recession_quarters.index)):\n",
    "        if min_GDP > df_recession_quarters.iloc[i]['GDP ($ Billion)']:\n",
    "            min_GDP = df_recession_quarters.iloc[i]['GDP ($ Billion)']\n",
    "            min_GDP_index = i\n",
    "    return df_recession_quarters.iloc[min_GDP_index].name"
   ]
  },
  {
   "cell_type": "code",
   "execution_count": 34,
   "metadata": {
    "collapsed": true,
    "umich_part_id": "025",
    "umich_partlist_id": "004"
   },
   "outputs": [],
   "source": [
    "def convert_housing_data_to_quarters():\n",
    "    '''Converts the housing data to quarters and returns it as mean \n",
    "    values in a dataframe. This dataframe should be a dataframe with\n",
    "    columns for 2000q1 through 2016q3, and should have a multi-index\n",
    "    in the shape of [\"State\",\"RegionName\"].\n",
    "    \n",
    "    Note: Quarters are defined in the assignment description, they are\n",
    "    not arbitrary three month periods.\n",
    "    \n",
    "    The resulting dataframe should have 67 columns, and 10,730 rows.\n",
    "    '''\n",
    "    \n",
    "    df_housing_data = pd.read_csv('City_Zhvi_AllHomes.csv')\n",
    "    df_housing_data = df_housing_data.drop(['RegionID', 'Metro', 'CountyName', 'SizeRank'], axis=1)\n",
    "    df_housing_data = df_housing_data.replace({'State': states})\n",
    "    df_housing_data = df_housing_data.set_index(['State', 'RegionName'])\n",
    "    df_housing_data = df_housing_data.replace(to_replace='NaN', value=np.NaN)\n",
    "    df_housing_data = df_housing_data.convert_objects(convert_numeric=True).sort()\n",
    "    index = list(df_housing_data.columns.values).index('2000-01')\n",
    "    df_housing_data = df_housing_data.T[index:].T\n",
    "    columns_by_quarter = []\n",
    "    for month_year in df_housing_data.columns:\n",
    "        year = month_year[0:4]\n",
    "        month = int(month_year[-2:])\n",
    "        if month in range(1,4):\n",
    "            quarter = 'q1'\n",
    "        if month in range(4,7):\n",
    "            quarter = 'q2'\n",
    "        if month in range(7,10):\n",
    "            quarter = 'q3'\n",
    "        if month in range(10,13):\n",
    "            quarter = 'q4'\n",
    "        columns_by_quarter.append(year + quarter)\n",
    "\n",
    "    df_housing_data.columns = columns_by_quarter\n",
    "    index_col = 0\n",
    "\n",
    "    while index_col < len(columns_by_quarter):\n",
    "        df_housing_data[columns_by_quarter[index_col]] = df_housing_data.T[index_col : index_col + 3].mean(axis=0)\n",
    "        index_col+=3\n",
    "\n",
    "    df_housing_data = df_housing_data.loc[:,~df_housing_data.columns.duplicated()]\n",
    "    return df_housing_data"
   ]
  },
  {
   "cell_type": "code",
   "execution_count": 47,
   "metadata": {
    "collapsed": true,
    "umich_part_id": "026",
    "umich_partlist_id": "004"
   },
   "outputs": [],
   "source": [
    "def run_ttest():\n",
    "    '''First creates new data showing the decline or growth of housing prices\n",
    "    between the recession start and the recession bottom. Then runs a ttest\n",
    "    comparing the university town values to the non-university towns values, \n",
    "    return whether the alternative hypothesis (that the two groups are the same)\n",
    "    is true or not as well as the p-value of the confidence. \n",
    "    \n",
    "    Return the tuple (different, p, better) where different=True if the t-test is\n",
    "    True at a p<0.01 (we reject the null hypothesis), or different=False if \n",
    "    otherwise (we cannot reject the null hypothesis). The variable p should\n",
    "    be equal to the exact p value returned from scipy.stats.ttest_ind(). The\n",
    "    value for better should be either \"university town\" or \"non-university town\"\n",
    "    depending on which has a lower mean price ratio (which is equivilent to a\n",
    "    reduced market loss).'''\n",
    "    \n",
    "    housing_data = convert_housing_data_to_quarters()\n",
    "    recession_start = get_recession_start()\n",
    "    recession_end = get_recession_end()\n",
    "    recession_botton = get_recession_bottom()\n",
    "    recession_start_index = housing_data.columns.get_loc(recession_start)\n",
    "    recession_end_index = housing_data.columns.get_loc(recession_end)\n",
    "    town_data = get_list_of_university_towns()\n",
    "    town_data = town_data.set_index(['State', 'RegionName'])\n",
    "    #housing_data['Ratio'] = housing_data.iloc[:, start_test - 1] / housing_data.iloc[:, end_test]\n",
    "    #uni_town_prices = pd.merge(town_list, housing_data)\n",
    "    housing_data['Price Ratio'] = (housing_data[recession_start] - housing_data[recession_end])/housing_data[recession_botton]\n",
    "    merge_uni_towns = pd.merge(town_data, housing_data, how='inner', right_index=True, left_index=True)\n",
    "    merge_uni_towns['University Town'] = True\n",
    "    merge_non_uni_towns = pd.merge(merge_uni_towns, housing_data, how='outer', right_index=True, left_index=True)\n",
    "    merge_non_uni_towns['University Town'] = False\n",
    "    t,p = ttest_ind(merge_non_uni_towns['Price Ratio_y'].dropna(),merge_uni_towns['Price Ratio'].dropna())\n",
    "    different = True if p < 0.01 else False\n",
    "    better = \"university town\" if merge_uni_towns['Price Ratio'].mean() < merge_non_uni_towns['Price Ratio_y'].mean() else \"non-university town\"\n",
    "    return (different, p, better)\n"
   ]
  },
  {
   "cell_type": "code",
   "execution_count": 48,
   "metadata": {},
   "outputs": [
    {
     "data": {
      "text/plain": [
       "(True, 0.0024006826615501822, 'university town')"
      ]
     },
     "execution_count": 48,
     "metadata": {},
     "output_type": "execute_result"
    }
   ],
   "source": [
    "run_ttest()"
   ]
  },
  {
   "cell_type": "code",
   "execution_count": null,
   "metadata": {
    "collapsed": true
   },
   "outputs": [],
   "source": []
  }
 ],
 "metadata": {
  "coursera": {
   "course_slug": "python-data-analysis",
   "graded_item_id": "Il9Fx",
   "launcher_item_id": "TeDW0",
   "part_id": "WGlun"
  },
  "kernelspec": {
   "display_name": "Python 3",
   "language": "python",
   "name": "python3"
  },
  "language_info": {
   "codemirror_mode": {
    "name": "ipython",
    "version": 3
   },
   "file_extension": ".py",
   "mimetype": "text/x-python",
   "name": "python",
   "nbconvert_exporter": "python",
   "pygments_lexer": "ipython3",
   "version": "3.6.2"
  },
  "umich": {
   "id": "Assignment 4",
   "version": "1.1"
  }
 },
 "nbformat": 4,
 "nbformat_minor": 1
}
